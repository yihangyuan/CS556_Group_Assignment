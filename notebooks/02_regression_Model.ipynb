{
 "cells": [
  {
   "cell_type": "markdown",
   "id": "2702027f",
   "metadata": {},
   "source": [
    "# Linear Regression on Cleaned Admissions Data\n",
    "This notebook loads the cleaned admissions dataset, trains a Linear Regression model, evaluates its performance, and saves predictions."
   ]
  },
  {
   "cell_type": "code",
   "execution_count": null,
   "id": "16941405",
   "metadata": {},
   "outputs": [],
   "source": [
    "import pandas as pd\n",
    "from sklearn.model_selection import train_test_split\n",
    "from sklearn.linear_model import LinearRegression\n",
    "from sklearn.metrics import mean_squared_error"
   ]
  },
  {
   "cell_type": "code",
   "execution_count": null,
   "id": "4e3dc547",
   "metadata": {},
   "outputs": [],
   "source": [
    "# 1. Load cleaned dataset\n",
    "data_path = '../data/admission_data_standardized.csv'\n",
    "df = pd.read_csv(data_path)\n",
    "df.rename(columns={'chance_of_admit': 'Chance_of_Admit'}, inplace=True)\n",
    "df.head()"
   ]
  },
  {
   "cell_type": "code",
   "execution_count": null,
   "id": "f17c51de",
   "metadata": {},
   "outputs": [],
   "source": [
    "# 2. Prepare features and target\n",
    "X = df.drop(columns=['Chance_of_Admit'])\n",
    "y = df['Chance_of_Admit']"
   ]
  },
  {
   "cell_type": "code",
   "execution_count": null,
   "id": "c6545e33",
   "metadata": {},
   "outputs": [],
   "source": [
    "# 3. Split into training and test sets (80/20)\n",
    "X_train, X_test, y_train, y_test = train_test_split(\n",
    "    X, y, test_size=0.2, random_state=42\n",
    ")"
   ]
  },
  {
   "cell_type": "code",
   "execution_count": null,
   "id": "917dedb8",
   "metadata": {},
   "outputs": [],
   "source": [
    "# 4. Train Linear Regression model\n",
    "model = LinearRegression()\n",
    "model.fit(X_train, y_train)"
   ]
  },
  {
   "cell_type": "code",
   "execution_count": null,
   "id": "948dc87c",
   "metadata": {},
   "outputs": [],
   "source": [
    "# 5. Evaluate performance\n",
    "y_train_pred = model.predict(X_train)\n",
    "y_test_pred = model.predict(X_test)\n",
    "mse_train = mean_squared_error(y_train, y_train_pred)\n",
    "mse_test = mean_squared_error(y_test, y_test_pred)\n",
    "print(f'Training Mean Squared Error: {mse_train:.5f}')\n",
    "print(f'Test Mean Squared Error:     {mse_test:.5f}')"
   ]
  },
  {
   "cell_type": "code",
   "execution_count": null,
   "id": "4a81932c",
   "metadata": {},
   "outputs": [],
   "source": [
    "# 6. Save test predictions to CSV\n",
    "pred_df = pd.DataFrame({'Actual': y_test.values, 'Predicted': y_test_pred})\n",
    "output_csv = '../results/regression_predictions.csv'\n",
    "pred_df.to_csv(output_csv, index=False)\n",
    "print(f'Saved predictions to {output_csv}')"
   ]
  },
  {
   "cell_type": "markdown",
   "id": "85614fa1",
   "metadata": {},
   "source": [
    "## Summary of Results\n",
    "- **Training MSE**: 0.00387  \n",
    "- **Test MSE**: 0.00462"
   ]
  }
 ],
 "metadata": {},
 "nbformat": 4,
 "nbformat_minor": 5
}
